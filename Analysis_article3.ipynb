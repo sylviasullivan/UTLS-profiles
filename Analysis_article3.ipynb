{
 "cells": [
  {
   "cell_type": "code",
   "execution_count": 7,
   "metadata": {},
   "outputs": [],
   "source": [
    "import matplotlib.pyplot as plt\n",
    "from datetime import datetime, timedelta\n",
    "from functools import reduce\n",
    "import numpy.ma as ma\n",
    "import pandas as pd\n",
    "import scipy.interpolate\n",
    "import numpy as np\n",
    "import xarray as xr\n",
    "import sys, time, os, dask, h5py\n",
    "import random, warnings, pickle\n",
    "import seaborn as sns\n",
    "from matplotlib import cm, colors\n",
    "from scipy.interpolate import interp1d\n",
    "from xhistogram.xarray import histogram"
   ]
  },
  {
   "cell_type": "code",
   "execution_count": 2,
   "metadata": {},
   "outputs": [],
   "source": [
    "sys.path.append(os.path.abspath(\"/groups/sylvia/UTLS-profiles/traj/\"))\n",
    "sys.path.append(os.path.abspath(\"/groups/sylvia/UTLS-profiles/utilities/\"))\n",
    "from flighttrack import *\n",
    "from plotting_utilities import *\n",
    "from thermodynamic_functions import *\n",
    "from icetraj import *\n",
    "farbe = sim_colors()"
   ]
  },
  {
   "cell_type": "code",
   "execution_count": 3,
   "metadata": {},
   "outputs": [],
   "source": [
    "# Constants needed for mixing ratio conversion\n",
    "mw_dryair = 28.97*1000    # kg air (mol air)-1\n",
    "mw_watvap = 18.02*1000    # kg wv (mol wv)-1\n",
    "conv = mw_dryair / mw_watvap"
   ]
  },
  {
   "cell_type": "markdown",
   "metadata": {
    "jp-MarkdownHeadingCollapsed": true
   },
   "source": [
    "# PDFs of pressure along the synthetic trajs versus StratoClim flight"
   ]
  },
  {
   "cell_type": "code",
   "execution_count": 14,
   "metadata": {},
   "outputs": [
    {
     "name": "stdout",
     "output_type": "stream",
     "text": [
      "64.30000305175781 144.12999725341797 269.29889015132034 862.5700073242188\n",
      "64.3 144.13 269.2989 862.57\n"
     ]
    }
   ],
   "source": [
    "bd = '/groups/sylvia/UTLS-profiles/output/hold/'\n",
    "syntraj = xr.open_dataset( bd + 'ICON_synthetic_trajs_1M0O_E.nc' )\n",
    "p_syntraj = syntraj.plev.values.flatten()/100  # All values in hPa\n",
    "\n",
    "bd2 = '/groups/sylvia/UTLS-profiles/obs/'\n",
    "stratoclim = xr.open_dataset( bd2 + 'stratoclim2017.geophysika.0808_1.filtered_per_sec.nc' )\n",
    "p_sc = stratoclim['BEST:PRESS'].values   # All values in hPa\n",
    "print( np.nanmin(p_syntraj), np.nanmedian(p_syntraj), np.nanmean(p_syntraj), np.nanmax(p_syntraj) )\n",
    "print( np.nanmin(p_sc), np.nanmedian(p_sc), np.nanmean(p_sc), np.nanmax(p_sc) )"
   ]
  },
  {
   "cell_type": "code",
   "execution_count": 32,
   "metadata": {},
   "outputs": [
    {
     "name": "stdout",
     "output_type": "stream",
     "text": [
      "[0.00467436 0.01138951 0.00585996 0.00544209 0.00975688 0.01002899\n",
      " 0.0019436  0.00170065 0.01001927 0.00132165 0.00127306 0.00180755\n",
      " 0.00421762 0.00042759 0.00041787 0.00040816 0.00046646 0.00100096\n",
      " 0.00036928 0.00034985 0.00035957 0.00032069 0.00028182 0.00030126\n",
      " 0.00255584 0.00028182 0.00030126 0.00031098 0.00033041 0.00032069\n",
      " 0.00428564 0.00033041 0.0002721  0.00034985 0.00883367 0.00033041\n",
      " 0.00034985 0.00030126 0.00035957 0.00035957 0.00034985 0.00034985\n",
      " 0.00040816 0.00038872 0.00033041 0.00030126 0.00029154 0.00030126\n",
      " 0.00025267 0.00028182 0.00026239 0.0002721  0.0002721  0.00026239\n",
      " 0.00029154 0.00028182 0.00026239 0.0002721  0.00078716 0.00099124\n",
      " 0.00032069 0.00031098 0.00039844 0.00031098 0.00028182 0.00073857\n",
      " 0.00083575 0.00040816 0.00030126 0.00137996 0.0042079  0.00044703\n",
      " 0.00387749 0.00250725 0.00036928 0.00038872 0.00031098 0.00034013\n",
      " 0.00028182 0.00023323 0.00017492 0.00013605 0.00014577 0.00022351\n",
      " 0.0002138  0.00026239 0.00020408 0.00020408 0.0002138  0.00018464\n",
      " 0.00024295 0.00030126 0.00024295 0.00060252 0.00053449 0.00017492\n",
      " 0.00015549 0.00015549 0.0002138 ]\n"
     ]
    },
    {
     "data": {
      "image/png": "[encoded data removed]",
      "text/plain": [
       "<Figure size 640x480 with 1 Axes>"
      ]
     },
     "metadata": {},
     "output_type": "display_data"
    }
   ],
   "source": [
    "bins = np.linspace(64,862,100)\n",
    "h1, _ = np.histogram( p_syntraj, density=True, bins=bins )\n",
    "h2, _ = np.histogram( p_sc, density=True, bins=bins )\n",
    "print(h1)\n",
    "bin_centers = 0.5 * (bins[:-1] + bins[1:])\n",
    "plt.step( bin_centers, h1-h2, where='mid', color='k' )\n",
    "#plt.hist( p_sc, bins=np.linspace(64,862,50), alpha=0.5, density=True, edgecolor='k' )\n",
    "plt.show()"
   ]
  },
  {
   "cell_type": "markdown",
   "metadata": {
    "jp-MarkdownHeadingCollapsed": true
   },
   "source": [
    "# Computation of the histogram of vertical velocities from the simulations"
   ]
  },
  {
   "cell_type": "code",
   "execution_count": 5,
   "metadata": {},
   "outputs": [],
   "source": [
    "# Load the observational w values and evaluate their histogram.\n",
    "high_w = 3\n",
    "low_w = 0.001\n",
    "nbin = 70"
   ]
  },
  {
   "cell_type": "code",
   "execution_count": 6,
   "metadata": {},
   "outputs": [
    {
     "name": "stdout",
     "output_type": "stream",
     "text": [
      "1M0O\n",
      "1M1O\n",
      "1M3O\n",
      "2M0O\n",
      "2M1O\n",
      "2M3O\n"
     ]
    }
   ],
   "source": [
    "# Load the vertical velocities between 200 and 70 hPa along the synthetic flight tracks\n",
    "bd = '/xdisk/sylvia/UTLS_flight_output/'\n",
    "sim_list = ['1M0O','1M1O','1M3O','2M0O','2M1O','2M3O']\n",
    "\n",
    "def hist_pct_da(w_da, edges, wgts=None):\n",
    "    if wgts is None:\n",
    "        wgts = dask.array.ones_like(w_da)\n",
    "    H_da, _ = dask.array.histogram(w_da, bins=edges, weights=wgts)\n",
    "    total_w = wgts[dask.array.isfinite(w_da)].sum()\n",
    "    H = H_da.compute()\n",
    "    total_w = total_w.compute()\n",
    "    return (H / total_w) * 100, edges\n",
    "\n",
    "hup_by_sim = {}\n",
    "hdown_by_sim = {}\n",
    "bin_edges = np.logspace(np.log(low_w), np.log(high_w), nbin)\n",
    "for sl in sim_list:\n",
    "    print( sl )\n",
    "    ds = xr.open_dataset(f\"{bd}{sl}/ICON_3D_flight_{sl}.nc\", chunks={\"lat\": 128, \"lon\": 128, \"plev\": 25, \"time\": 1})\n",
    "    plev = ds['plev']\n",
    "    w = ds['w']\n",
    "    # Filter for UTLS pressures from 70 hPa down to 200 hPa \n",
    "    pmin, pmax = 7000.0, 20000.0\n",
    "    # First updrafts\n",
    "    mask = (plev >= pmin) & (plev <= pmax) & (w > 0)\n",
    "    w_sel = ds['w'].where(mask, drop=True)   # (25,12,441,401)\n",
    "    Hpct, edges = hist_pct_da(w_sel.data, bin_edges)\n",
    "    hup_by_sim[sl] = (edges, Hpct)\n",
    "    # Then downdrafts. Remember to take the absolute value (or multiply by -1).\n",
    "    mask = (plev >= pmin) & (plev <= pmax) & (w < 0)\n",
    "    w_sel = ds['w'].where(mask, drop=True) * -1  # (25,12,441,401)\n",
    "    Hpct, edges = hist_pct_da(w_sel.data, bin_edges)\n",
    "    hdown_by_sim[sl] = (edges, Hpct)"
   ]
  },
  {
   "cell_type": "code",
   "execution_count": 8,
   "metadata": {},
   "outputs": [],
   "source": [
    "# Save the hup_by_sim and hdown_by_sim dictionaires from the code block above \n",
    "bd = '/groups/sylvia/UTLS-profiles/output/'\n",
    "with open( bd + \"hup_by_sim.pkl\", \"wb\" ) as f:\n",
    "    pickle.dump( hup_by_sim, f )\n",
    "with open( bd + \"hdown_by_sim.pkl\", \"wb\" ) as f:\n",
    "    pickle.dump( hdown_by_sim, f )"
   ]
  },
  {
   "cell_type": "markdown",
   "metadata": {
    "jp-MarkdownHeadingCollapsed": true
   },
   "source": [
    "# Computation of the small domain-averaged qv and T profiles"
   ]
  },
  {
   "cell_type": "code",
   "execution_count": null,
   "metadata": {},
   "outputs": [],
   "source": [
    "bd = '/xdisk/sylvia/UTLS_flight_output/'\n",
    "sim_list = ['1M0O', '1M1O', '1M3O', '2M0O', '2M1O', '2M3O' ]\n",
    "plev = xr.open_dataset( bd + '1M0O/ICON_3D_flight_1M0O.nc' )['plev']\n",
    "mean_profiles = np.zeros( (2, len(sim_list), len(plev)) )\n",
    "for i, sl in enumerate(sim_list):\n",
    "    ds = xr.open_dataset( bd + sl + '/ICON_3D_flight_' + sl + '.nc' )\n",
    "    t = ds['temp'].mean( dim=['time', 'lat', 'lon'] )\n",
    "    q = ds['qv'].mean( dim=['time', 'lat', 'lon'] )\n",
    "    mean_profiles[0, i] = t\n",
    "    mean_profiles[1, i] = q"
   ]
  },
  {
   "cell_type": "code",
   "execution_count": 15,
   "metadata": {},
   "outputs": [],
   "source": [
    "# Convert mean_profiles to a netcdf file\n",
    "variables = ['mean_T', 'mean_qv']\n",
    "da = xr.DataArray( mean_profiles, dims=[\"variable\", \"simulation\", \"pressure\"], \n",
    "                  coords={\"variable\": variables, \"simulation\": sim_list, \"pressure\": plev.values},\n",
    "                  name=\"mean_values\" )\n",
    "ds = da.to_dataset( dim=\"variable\" )\n",
    "ds.to_netcdf( '/groups/sylvia/UTLS-profiles/output/mean-T-qv-profiles.nc' )"
   ]
  },
  {
   "cell_type": "markdown",
   "metadata": {
    "jp-MarkdownHeadingCollapsed": true
   },
   "source": [
    "# Percentages of temperature bias and stdev values"
   ]
  },
  {
   "cell_type": "code",
   "execution_count": 31,
   "metadata": {},
   "outputs": [],
   "source": [
    "basedir = '/groups/sylvia/UTLS-profiles/output/'\n",
    "syn_traj = xr.open_dataset(basedir + 'ICON_synthetic_trajs_1M0O_E.nc')\n",
    "T = syn_traj.temp.values\n",
    "P = syn_traj.pressure.values/100\n",
    "t = syn_traj.time.values # DataArray of length 12770\n",
    "\n",
    "# Read in-situ data\n",
    "daten = xr.open_dataset('/groups/sylvia/UTLS-profiles/obs/stratoclim2017.geophysika.0808_1.filtered_per_sec.nc')\n",
    "T_Stratoclim = daten['BEST:TEMP']\n",
    "P_Stratoclim = daten['BEST:PRESS']\n",
    "t_Stratoclim = daten['time']"
   ]
  },
  {
   "cell_type": "code",
   "execution_count": 51,
   "metadata": {},
   "outputs": [
    {
     "name": "stderr",
     "output_type": "stream",
     "text": [
      "/home/u18/sylvia/.conda/envs/ncplot/lib/python3.7/site-packages/ipykernel_launcher.py:1: RuntimeWarning: Mean of empty slice\n",
      "  \"\"\"Entry point for launching an IPython kernel.\n",
      "/home/u18/sylvia/.conda/envs/ncplot/lib/python3.7/site-packages/numpy/lib/nanfunctions.py:1671: RuntimeWarning: Degrees of freedom <= 0 for slice.\n",
      "  keepdims=keepdims)\n"
     ]
    }
   ],
   "source": [
    "Tm = np.nanmean( T, axis=1 )\n",
    "Tstd = np.nanstd( T, axis=1 )\n",
    "Tbias = Tm - T_Stratoclim"
   ]
  },
  {
   "cell_type": "code",
   "execution_count": 52,
   "metadata": {},
   "outputs": [],
   "source": [
    "# Identify the best trajectory\n",
    "Tdiff = T - T_Stratoclim.values[:, np.newaxis]\n",
    "jmin = np.argmin( np.abs(Tdiff), axis=1 )\n",
    "most_common_jmin = np.bincount(jmin).argmax()\n",
    "best_traj = Tdiff[:, most_common_jmin]"
   ]
  },
  {
   "cell_type": "code",
   "execution_count": 53,
   "metadata": {},
   "outputs": [
    {
     "name": "stdout",
     "output_type": "stream",
     "text": [
      "39.185591229444015\n",
      "64.9177760375881\n",
      "81.46436961628818\n",
      "10.156617071260769\n"
     ]
    }
   ],
   "source": [
    "# What percent of temperature biases fall between +/-2K? Or some other threshold.\n",
    "mask1 = np.abs(Tbias) <= 1\n",
    "mask2 = np.abs(Tbias) <= 2\n",
    "mask3 = np.abs(Tbias) <= 3\n",
    "mask5 = np.abs(Tbias) >= 5\n",
    "percent_within_1k = np.count_nonzero( mask1 ) / Tbias.size * 100\n",
    "percent_within_2k = np.count_nonzero( mask2 ) / Tbias.size * 100\n",
    "percent_within_3k = np.count_nonzero( mask3 ) / Tbias.size * 100\n",
    "percent_outside_5k = np.count_nonzero( mask5 ) / Tbias.size * 100\n",
    "print( percent_within_1k )\n",
    "print( percent_within_2k )\n",
    "print( percent_within_3k )\n",
    "print( percent_outside_5k )"
   ]
  },
  {
   "cell_type": "code",
   "execution_count": 54,
   "metadata": {},
   "outputs": [
    {
     "name": "stdout",
     "output_type": "stream",
     "text": [
      "38.112764291307755\n",
      "64.65935787000782\n",
      "81.49569303054032\n",
      "10.24275646045419\n"
     ]
    }
   ],
   "source": [
    "# What percent of temperature biases fall between +/-2K for the best trajectory? Or some other threshold.\n",
    "mask1 = np.abs(best_traj) <= 1\n",
    "mask2 = np.abs(best_traj) <= 2\n",
    "mask3 = np.abs(best_traj) <= 3\n",
    "mask5 = np.abs(best_traj) >= 5\n",
    "percent_within_1k = np.count_nonzero( mask1 ) / best_traj.size * 100\n",
    "percent_within_2k = np.count_nonzero( mask2 ) / best_traj.size * 100\n",
    "percent_within_3k = np.count_nonzero( mask3 ) / best_traj.size * 100\n",
    "percent_outside_5k = np.count_nonzero( mask5 ) / best_traj.size * 100\n",
    "print( percent_within_1k )\n",
    "print( percent_within_2k )\n",
    "print( percent_within_3k )\n",
    "print( percent_outside_5k )"
   ]
  },
  {
   "cell_type": "code",
   "execution_count": 11,
   "metadata": {},
   "outputs": [
    {
     "name": "stdout",
     "output_type": "stream",
     "text": [
      "67.78386844166015\n",
      "96.57791699295223\n",
      "99.78073610023492\n"
     ]
    }
   ],
   "source": [
    "# What percentage of stdev in temperature falls in certain ranges?\n",
    "mask1 = np.abs( Tstd ) <= 0.25\n",
    "mask2 = np.abs( Tstd ) <= 0.5\n",
    "mask3 = np.abs( Tstd ) <= 1\n",
    "percent1 = np.count_nonzero( mask1 ) / Tbias.size * 100\n",
    "percent2 = np.count_nonzero( mask2 ) / Tbias.size * 100\n",
    "percent3 = np.count_nonzero( mask3 ) / Tbias.size * 100\n",
    "\n",
    "print( percent1 )\n",
    "print( percent2 )\n",
    "print( percent3 )"
   ]
  },
  {
   "cell_type": "code",
   "execution_count": 16,
   "metadata": {},
   "outputs": [],
   "source": [
    "# Calculate upper bound of the temperature bias from the profiles.\n",
    "\n",
    "tag = '_E'  # E = 'extract', default 20 synthetic trajectories\n",
    "#tag = '_E2' # Second (or third) set of 20 synthetic trajectories to test reproducibility\n",
    "#tag = '_C' # C = 'collocate', minimize the Euclidean distance between sim and obs values\n",
    "#tag = '_full' # Statistics over the full Flight 7 track\n",
    "\n",
    "bd = '/groups/sylvia/UTLS-profiles/output/'\n",
    "stats = []\n",
    "sim_list = ['1M0O','1M1O','1M3O','2M0O','2M1O','2M3O']\n",
    "for s in sim_list: \n",
    "    ds = xr.open_dataset( bd + 'ICON_synthetic_trajs_stats_' + s + tag + '.nc' )\n",
    "    stats.append( ds )\n",
    "plev = ds.pressure"
   ]
  },
  {
   "cell_type": "code",
   "execution_count": 15,
   "metadata": {},
   "outputs": [
    {
     "name": "stderr",
     "output_type": "stream",
     "text": [
      "/groups/sylvia/UTLS-profiles/traj/flighttrack.py:94: RuntimeWarning: Mean of empty slice\n",
      "  stats[0, i] = np.nanmean(values)\n",
      "/home/u18/sylvia/.conda/envs/ncplot/lib/python3.7/site-packages/numpy/lib/nanfunctions.py:1120: RuntimeWarning: All-NaN slice encountered\n",
      "  overwrite_input=overwrite_input)\n",
      "/home/u18/sylvia/.conda/envs/ncplot/lib/python3.7/site-packages/numpy/lib/nanfunctions.py:1671: RuntimeWarning: Degrees of freedom <= 0 for slice.\n",
      "  keepdims=keepdims)\n"
     ]
    }
   ],
   "source": [
    "# Read in-situ data\n",
    "time0 = datetime(2017, 8, 8, 6, 20)\n",
    "timef = datetime(2017, 8, 8, 6, 48)\n",
    "p1, qv_flash, qv_fish, p2, qi_obs, p3, temp, theta, p4, rhice_flash, rhice_fish = \\\n",
    "    read_flighttrack( time0, timef )\n",
    "\n",
    "# Bin the in-situ data by pressure levels from the simulation\n",
    "bins_sims, temp_SC_stats, theta_SC_stats, qv_flash_SC_stats, qv_fish_SC_stats, qi_SC_stats, RHi_SC_stats = \\\n",
    "    bin_flighttrack( p1, qv_flash, qv_fish, p2, qi_obs, p3, temp, theta, p4, rhice_flash, rhice_fish )"
   ]
  },
  {
   "cell_type": "code",
   "execution_count": 52,
   "metadata": {},
   "outputs": [
    {
     "name": "stdout",
     "output_type": "stream",
     "text": [
      "Above/Below 110 hPa -- 1M0O\n",
      "3.5073841568186026 // -1.3200833149872722\n",
      "10.024833094995756 // -2.4983799356680834\n",
      "~~~~~~\n",
      "Ratio above/below 110 hPa -- 1M0O\n",
      "2.6569415104321803\n",
      "4.012533462935872\n",
      "~~~~~~~~~~~~~~~~~~~~~~~~~~~~\n",
      "Above/Below 110 hPa -- 1M1O\n",
      "3.3882919511111425 // -1.195972565896625\n",
      "9.77542237822638 // -2.2741744822349688\n",
      "~~~~~~\n",
      "Ratio above/below 110 hPa -- 1M1O\n",
      "2.8330850119215967\n",
      "4.298448713846917\n",
      "~~~~~~~~~~~~~~~~~~~~~~~~~~~~\n",
      "Above/Below 110 hPa -- 1M3O\n",
      "2.9524720860734703 // -1.307046445488396\n",
      "8.862699800996609 // -2.4748288954982627\n",
      "~~~~~~\n",
      "Ratio above/below 110 hPa -- 1M3O\n",
      "2.258888424558041\n",
      "3.581136383657854\n",
      "~~~~~~~~~~~~~~~~~~~~~~~~~~~~\n",
      "Above/Below 110 hPa -- 2M0O\n",
      "2.7133265029328015 // -1.044399351992837\n",
      "8.361865418519642 // -1.5428472298607971\n",
      "~~~~~~\n",
      "Ratio above/below 110 hPa -- 2M0O\n",
      "2.5979779648038415\n",
      "5.419762408540014\n",
      "~~~~~~~~~~~~~~~~~~~~~~~~~~~~\n",
      "Above/Below 110 hPa -- 2M1O\n",
      "3.0116355039700977 // -1.2312568147303296\n",
      "8.986603715417118 // -1.8477433108899959\n",
      "~~~~~~\n",
      "Ratio above/below 110 hPa -- 2M1O\n",
      "2.4459848408065117\n",
      "4.863556351389833\n",
      "~~~~~~~~~~~~~~~~~~~~~~~~~~~~\n",
      "Above/Below 110 hPa -- 2M3O\n",
      "2.919188101724245 // -0.9159461199226939\n",
      "8.792994295550841 // -1.3332495692699808\n",
      "~~~~~~\n",
      "Ratio above/below 110 hPa -- 2M3O\n",
      "3.1870740409606464\n",
      "6.5951600497162985\n",
      "~~~~~~~~~~~~~~~~~~~~~~~~~~~~\n"
     ]
    },
    {
     "name": "stderr",
     "output_type": "stream",
     "text": [
      "/home/u18/sylvia/.conda/envs/ncplot/lib/python3.7/site-packages/ipykernel_launcher.py:13: RuntimeWarning: Mean of empty slice\n",
      "  del sys.path[0]\n",
      "/home/u18/sylvia/.conda/envs/ncplot/lib/python3.7/site-packages/ipykernel_launcher.py:14: RuntimeWarning: Mean of empty slice\n",
      "  \n"
     ]
    }
   ],
   "source": [
    "# Print the maximum temperature bias below 110 hPa\n",
    "jj = np.argwhere( plev.values <= 11000 )[-1].item()\n",
    "kk = np.argwhere( plev.values <= 20000 )[-1].item()\n",
    "\n",
    "# Specify whether to compare means (l = 0) or medians (l = 1)\n",
    "k = 'mean'; l = 0\n",
    "tbiasmax_above = []\n",
    "tbiasmax_below = []\n",
    "thetabiasmax_above = []\n",
    "thetabiasmax_below = []\n",
    "\n",
    "for i, sl in zip(np.arange(len(sim_list)), sim_list):\n",
    "    tm = np.nanmean( stats[i]['temp_'+k], axis=1 )\n",
    "    thetam = np.nanmean( stats[i]['theta_'+k], axis=1 )\n",
    "    tdiff = tm-temp_SC_stats[l]\n",
    "    thetadiff = thetam-theta_SC_stats[l]\n",
    "\n",
    "    idx_t_above = np.nanargmax(np.abs(tdiff[:jj]))\n",
    "    idx_theta_above = np.nanargmax(np.abs(thetadiff[:jj]))\n",
    "    t_above = tdiff[:jj]\n",
    "    theta_above = thetadiff[:jj]\n",
    "\n",
    "    idx_t_below = np.nanargmax(np.abs(tdiff[jj:kk]))\n",
    "    idx_theta_below = np.nanargmax(np.abs(thetadiff[jj:kk]))\n",
    "    t_below = tdiff[jj:kk]\n",
    "    theta_below = thetadiff[jj:kk]\n",
    "    \n",
    "    # Maximum temperature + theta differences above 100 hPa\n",
    "    print( 'Above/Below 110 hPa -- ' + sl )\n",
    "    print( str(t_above[idx_t_above]) + ' // ' + str(t_below[idx_t_below]) ) \n",
    "    print( str(theta_above[idx_theta_above])+ ' // ' + str(theta_below[idx_theta_below]) )\n",
    "    tbiasmax_above.append( t_above[idx_t_above] )\n",
    "    thetabiasmax_above.append( theta_above[idx_t_above] )\n",
    "    print( '~~~~~~' )\n",
    "    \n",
    "    # Maximum temperature + theta differences below 100 hPa\n",
    "    print( 'Ratio above/below 110 hPa -- ' + sl )\n",
    "    print( np.abs(t_above[idx_t_above])/np.abs(t_below[idx_t_below]) ) \n",
    "    print( np.abs(theta_above[idx_theta_above])/np.abs(theta_below[idx_theta_below]) )\n",
    "    tbiasmax_below.append( t_below[idx_t_below] )\n",
    "    thetabiasmax_below.append( theta_below[idx_theta_below] )\n",
    "    print( '~~~~~~~~~~~~~~~~~~~~~~~~~~~~' )"
   ]
  },
  {
   "cell_type": "code",
   "execution_count": 42,
   "metadata": {},
   "outputs": [
    {
     "name": "stdout",
     "output_type": "stream",
     "text": [
      "3.08204971710506\n",
      "1.6478847860459684\n",
      "~~~~~~~~~~~~~~~~~~~~~~~~~~~~~~~~~\n",
      "9.134069783951057\n",
      "3.241068270466419\n",
      "~~~~~~~~~~~~~~~~~~~~~~~~~~~~~~~~~\n",
      "0.7940576538858011\n",
      "0.25127893476340546\n",
      "~~~~~~~~~~~~~~~~~~~~~~~~~~~~~~~~~\n"
     ]
    }
   ],
   "source": [
    "# What is the average maximum bias above and below 100 hPa in T?\n",
    "print( np.nanmean(tbiasmax_above) )\n",
    "print( np.nanmean(tbiasmax_below) )\n",
    "print( '~~~~~~~~~~~~~~~~~~~~~~~~~~~~~~~~~' )\n",
    "\n",
    "# What is the average maximum bias above and below 100 hPa in theta?\n",
    "print( np.nanmean(thetabiasmax_above) )\n",
    "print( np.nanmean(thetabiasmax_below) )\n",
    "print( '~~~~~~~~~~~~~~~~~~~~~~~~~~~~~~~~~' )\n",
    "\n",
    "# How much do the models differ in their max bias above and below 100 hPa in T?\n",
    "print( np.nanmax(np.abs(tbiasmax_above)) - np.nanmin(np.abs(tbiasmax_above)) )\n",
    "print( np.nanmax(np.abs(tbiasmax_below)) - np.nanmin(np.abs(tbiasmax_below)) )\n",
    "print( '~~~~~~~~~~~~~~~~~~~~~~~~~~~~~~~~~' )"
   ]
  },
  {
   "cell_type": "markdown",
   "metadata": {
    "jp-MarkdownHeadingCollapsed": true
   },
   "source": [
    "# Understanding consistency of T time series and profiles"
   ]
  },
  {
   "cell_type": "code",
   "execution_count": 65,
   "metadata": {},
   "outputs": [
    {
     "name": "stdout",
     "output_type": "stream",
     "text": [
      "(1297, 20)\n"
     ]
    },
    {
     "name": "stderr",
     "output_type": "stream",
     "text": [
      "/home/u18/sylvia/.conda/envs/ncplot/lib/python3.7/site-packages/ipykernel_launcher.py:14: RuntimeWarning: Mean of empty slice\n",
      "  \n",
      "/home/u18/sylvia/.conda/envs/ncplot/lib/python3.7/site-packages/numpy/lib/nanfunctions.py:1671: RuntimeWarning: Degrees of freedom <= 0 for slice.\n",
      "  keepdims=keepdims)\n"
     ]
    }
   ],
   "source": [
    "# For which temperatures do biases >+/-5 K occur?\n",
    "basedir = '/groups/sylvia/UTLS-profiles/output/'\n",
    "syn_traj = xr.open_dataset(basedir + 'ICON_synthetic_trajs_1M0O_E.nc')\n",
    "T = syn_traj.temp.values\n",
    "P = syn_traj.pressure.values/100\n",
    "t = syn_traj.time.values # DataArray of length 12770\n",
    "\n",
    "# Read in-situ data\n",
    "daten = xr.open_dataset('/groups/sylvia/UTLS-profiles/obs/stratoclim2017.geophysika.0808_1.filtered_per_sec.nc')\n",
    "T_Stratoclim = daten['BEST:TEMP']\n",
    "P_Stratoclim = daten['BEST:PRESS']\n",
    "t_Stratoclim = daten['time']\n",
    "\n",
    "Tm = np.nanmean( T, axis=1 )\n",
    "Tstd = np.nanstd( T, axis=1 )\n",
    "Tbias = Tm - T_Stratoclim\n",
    "\n",
    "large_bias_indx = np.argwhere( np.abs(Tbias.values) > 5 )[:,0]\n",
    "T_at_large_bias_indx = T[large_bias_indx]"
   ]
  },
  {
   "cell_type": "code",
   "execution_count": 73,
   "metadata": {},
   "outputs": [
    {
     "data": {
      "image/png": "[encoded data removed]",
      "text/plain": [
       "<Figure size 640x480 with 1 Axes>"
      ]
     },
     "metadata": {},
     "output_type": "display_data"
    }
   ],
   "source": [
    "plt.hist( T_at_large_bias_indx[:,1], bins=np.linspace(180,250,50), edgecolor='k' )\n",
    "plt.show()"
   ]
  },
  {
   "cell_type": "code",
   "execution_count": 68,
   "metadata": {},
   "outputs": [],
   "source": [
    "# What about if we filter only for the period of ascent / descent?\n",
    "basedir = '/groups/sylvia/UTLS-profiles/output/'\n",
    "syn_traj = xr.open_dataset(basedir + 'ICON_synthetic_trajs_1M0O_E.nc')\n",
    "\n",
    "# Time range from Lee et al. 2019 (6:20-6:48 UTC)    \n",
    "time0 = datetime(2017, 8, 8, 6, 20)\n",
    "timef = datetime(2017, 8, 8, 6, 48)\n",
    "T_sub = syn_traj.temp.sel(time=slice(time0,timef))\n",
    "\n",
    "# Read in-situ data\n",
    "daten = xr.open_dataset('/groups/sylvia/UTLS-profiles/obs/stratoclim2017.geophysika.0808_1.filtered_per_sec.nc')\n",
    "T_Stratoclim_sub = daten['BEST:TEMP'].sel(time=slice(time0,timef))\n",
    "\n",
    "Tm_sub = np.nanmean( T_sub, axis=1 )\n",
    "Tbias_sub = Tm_sub - T_Stratoclim_sub\n",
    "\n",
    "large_bias_indx_sub = np.argwhere( np.abs(Tbias_sub.values) > 5 )[:,0]\n",
    "T_at_large_bias_indx_sub = T[large_bias_indx_sub]"
   ]
  },
  {
   "cell_type": "code",
   "execution_count": 72,
   "metadata": {},
   "outputs": [
    {
     "data": {
      "image/png": "[encoded data removed]",
      "text/plain": [
       "<Figure size 640x480 with 1 Axes>"
      ]
     },
     "metadata": {},
     "output_type": "display_data"
    }
   ],
   "source": [
    "plt.hist( T_at_large_bias_indx_sub[:,1], bins=np.linspace(180,200,20), edgecolor='k' )\n",
    "plt.show()"
   ]
  },
  {
   "cell_type": "code",
   "execution_count": 85,
   "metadata": {},
   "outputs": [
    {
     "name": "stdout",
     "output_type": "stream",
     "text": [
      "50.28382213812678\n"
     ]
    },
    {
     "data": {
      "image/png": "[encoded data removed]",
      "text/plain": [
       "<Figure size 640x480 with 1 Axes>"
      ]
     },
     "metadata": {},
     "output_type": "display_data"
    }
   ],
   "source": [
    "# Now go in the opposite direction. Are all instances of 185-200 K necessarily biased?\n",
    "#j_cold = np.argwhere( (Tm > 185) & (Tm < 200) )[:,0]\n",
    "j_cold = np.argwhere( (Tm > 200) & (Tm < 220) )[:,0]\n",
    "Tbias_cold = Tbias[j_cold]\n",
    "percent_positive = np.count_nonzero(Tbias_cold > 0) / len(Tbias_cold) * 100\n",
    "print(percent_positive)\n",
    "\n",
    "plt.hist( Tbias_cold, bins=np.linspace(-10,10,20), edgecolor='k' )\n",
    "plt.show()"
   ]
  },
  {
   "cell_type": "markdown",
   "metadata": {
    "jp-MarkdownHeadingCollapsed": true
   },
   "source": [
    "# Computation of the T differences between in-situ obs and sondes or MLS"
   ]
  },
  {
   "cell_type": "code",
   "execution_count": 19,
   "metadata": {},
   "outputs": [],
   "source": [
    "# Sonde data\n",
    "bd = '/groups/sylvia/UTLS-profiles/obs/'\n",
    "#sonde_id = [ '42182', '42867', '42089' ]\n",
    "sonde_id = [ '42379', '42492', '42701', '42867', '42809', '42361' ]\n",
    "sonde_list_temperature = []\n",
    "sonde_list_pressure = []\n",
    "for i in sonde_id:\n",
    "    fi = bd + 'Sonde-' + i + '-20170808T00.txt'\n",
    "    df_raw = pd.read_csv( fi, sep='\\s+', header=None, engine='python' )\n",
    "    \n",
    "    # Use the first row of text as column headers\n",
    "    new_columns = [f\"{var} [{unit}]\" for var, unit in zip(df_raw.iloc[0], df_raw.iloc[1])]\n",
    "    df_raw.columns = new_columns\n",
    "    df_clean = df_raw.drop(index=[0, 1]).reset_index(drop=True).astype(float)\n",
    "\n",
    "    # Append the temperature, qv, and pressure to sonde_list_temperature\n",
    "    sonde_list_temperature.append( df_clean['TEMP [C]'].values + 273 )\n",
    "    p = df_clean['PRES [hPa]'].values\n",
    "    sonde_list_pressure.append( p )"
   ]
  },
  {
   "cell_type": "code",
   "execution_count": 20,
   "metadata": {},
   "outputs": [],
   "source": [
    "# Create mean sonde data also by interpolating to a set of reference pressures across all sites\n",
    "interpolated_temperatures = []\n",
    "ref_pressure = sonde_list_pressure[0]\n",
    "for p, t in zip(sonde_list_pressure, sonde_list_temperature):\n",
    "    sort_idx = np.argsort(p)[::-1]\n",
    "    p_sorted = p[sort_idx]\n",
    "    t_sorted = t[sort_idx]\n",
    "\n",
    "    f_interp = interp1d( p_sorted, t_sorted, kind='linear', bounds_error=False, fill_value=np.nan )\n",
    "    interp_t = f_interp( ref_pressure )\n",
    "    interpolated_temperatures.append( interp_t )"
   ]
  },
  {
   "cell_type": "code",
   "execution_count": 21,
   "metadata": {},
   "outputs": [],
   "source": [
    "mean_sonde_temperature = np.nanmean( interpolated_temperatures, axis=0 )\n",
    "mean_sonde_pressure = ref_pressure"
   ]
  },
  {
   "cell_type": "code",
   "execution_count": 22,
   "metadata": {},
   "outputs": [
    {
     "name": "stderr",
     "output_type": "stream",
     "text": [
      "/groups/sylvia/UTLS-profiles/traj/flighttrack.py:91: RuntimeWarning: Mean of empty slice\n",
      "  stats[0, i] = np.nanmean(values)\n",
      "/home/u18/sylvia/.conda/envs/ncplot/lib/python3.7/site-packages/numpy/lib/nanfunctions.py:1120: RuntimeWarning: All-NaN slice encountered\n",
      "  overwrite_input=overwrite_input)\n",
      "/home/u18/sylvia/.conda/envs/ncplot/lib/python3.7/site-packages/numpy/lib/nanfunctions.py:1671: RuntimeWarning: Degrees of freedom <= 0 for slice.\n",
      "  keepdims=keepdims)\n"
     ]
    }
   ],
   "source": [
    "# Time range from Lee et al. 2019 (6:20-6:48 UTC)    \n",
    "time0 = datetime(2017, 8, 8, 6, 20)\n",
    "timef = datetime(2017, 8, 8, 6, 48)\n",
    "\n",
    "# Read in-situ data\n",
    "p1, qv_flash, qv_fish, p2, qi_obs, p3, temp, theta, p4, rhice_flash, rhice_fish = \\\n",
    "    read_flighttrack( time0, timef )\n",
    "\n",
    "# Bin the in-situ data\n",
    "_, temp_SC_sonde, _, _, _, _, _ = \\\n",
    "    bin_flighttrack_general( np.flip(ref_pressure)*100, p1, qv_flash, qv_fish, p2, qi_obs, p3, temp, theta, p4, rhice_flash, rhice_fish )\n",
    "temp_SC_sonde = np.flip(temp_SC_sonde, axis=1)"
   ]
  },
  {
   "cell_type": "code",
   "execution_count": 31,
   "metadata": {},
   "outputs": [
    {
     "name": "stdout",
     "output_type": "stream",
     "text": [
      "[51 52 53 54 55 56 57 58 59 60 61 62 63 64 65 66]\n",
      "[200.  180.  172.  150.  137.  105.  100.   97.8  97.   91.   87.9  87.\n",
      "  83.   79.   77.   70. ]\n",
      "-2.5283528645833258 0.32816209863847995 0.42133382161458144 1.7706602070346378\n"
     ]
    }
   ],
   "source": [
    "j = np.argwhere( (ref_pressure <= 200) & (ref_pressure >= 70) )[:,0]\n",
    "print(j)\n",
    "print(ref_pressure[j])\n",
    "temp_diff_sonde = mean_sonde_temperature[j] - temp_SC_sonde[0][j]\n",
    "print( np.nanmin(temp_diff_sonde), np.nanmean(temp_diff_sonde), np.nanmedian(temp_diff_sonde), np.nanmax(temp_diff_sonde) )"
   ]
  },
  {
   "cell_type": "code",
   "execution_count": 35,
   "metadata": {},
   "outputs": [],
   "source": [
    "# MLS data\n",
    "filename = 'MLS-Aura_L2GP-Temperature_v05-01-c01_2017d220.he5'\n",
    "with h5py.File( bd + filename, 'r' ) as f:\n",
    "    mls_temperature = f['HDFEOS/SWATHS/Temperature/Data Fields/Temperature'][:]  # (3495, 55)\n",
    "    lat = f['HDFEOS/SWATHS/Temperature/Geolocation Fields/Latitude'][:] # (3495, )\n",
    "    lon = f['HDFEOS/SWATHS/Temperature/Geolocation Fields/Longitude'][:] # (3495, )\n",
    "    mls_pressure1 = f['HDFEOS/SWATHS/Temperature/Geolocation Fields/Pressure'][:] # (55, )\n",
    "\n",
    "# Filter for temperature and qv data where lat and lon fall within the box\n",
    "mask = ( (lon >= 80) & (lon <= 90) & (lat >= 19) & (lat <=30) )\n",
    "mls_temperature_filtered = mls_temperature[mask, :]"
   ]
  },
  {
   "cell_type": "code",
   "execution_count": 46,
   "metadata": {},
   "outputs": [],
   "source": [
    "# Interpolate the in-situ data to the MLS, reanalysis, and sonde levels\n",
    "# Factor of 100 converts from hPa to Pa\n",
    "_, temp_SC_mls, _, _, _, _, _ = \\\n",
    "    bin_flighttrack_general( np.flip(mls_pressure1)*100, p1, qv_flash, qv_fish, p2, qi_obs, p3, temp, theta, p4, rhice_flash, rhice_fish )\n",
    "\n",
    "# Flip back to the same direction as mls_pressure1\n",
    "temp_SC_mls = np.flip(temp_SC_mls, axis=1)\n",
    "\n",
    "# Retain only the mean of the three statistics that are output\n",
    "temp_SC_mls0 = temp_SC_mls[0] "
   ]
  },
  {
   "cell_type": "code",
   "execution_count": 48,
   "metadata": {},
   "outputs": [
    {
     "name": "stdout",
     "output_type": "stream",
     "text": [
      "[-1.75419617 -0.03347778 -1.79681396 -2.92388916 -1.75912476]\n",
      "[-7.23680115 -2.61167908 -0.9967041  -0.11050415 -2.86831665]\n",
      "[-5.13468933 -1.26356506  1.61929321  0.71968079  1.83973694]\n",
      "[-8.25340271 -4.62701416 -2.19229126 -1.80351257 -4.36608887]\n",
      "[-17.92469788  -7.92185974   2.33421326   6.25537109   0.90037537]\n",
      "[-10.54574585   1.0247345    5.77058411   2.92375183  -4.05381775]\n",
      "[-16.14868164  -6.3170929    1.66473389   4.71688843   0.39573669]\n",
      "[-8.95016479 -4.3891449  -0.4675293   1.48460388 -0.54348755]\n"
     ]
    }
   ],
   "source": [
    "j = np.argwhere( (mls_pressure1 <= 200) & (mls_pressure1 >= 70) )[:,0]\n",
    "for i in range(8):\n",
    "    temp_diff_mls = mls_temperature_filtered[i,j] - temp_SC_mls0[j]\n",
    "    print(temp_diff_mls)"
   ]
  },
  {
   "cell_type": "markdown",
   "metadata": {
    "jp-MarkdownHeadingCollapsed": true
   },
   "source": [
    "# Plot the standard deviation of temperature across trajectories in a relative sense"
   ]
  },
  {
   "cell_type": "code",
   "execution_count": 34,
   "metadata": {},
   "outputs": [
    {
     "name": "stderr",
     "output_type": "stream",
     "text": [
      "/home/u18/sylvia/.conda/envs/ncplot/lib/python3.7/site-packages/ipykernel_launcher.py:2: RuntimeWarning: Mean of empty slice\n",
      "  \n",
      "/home/u18/sylvia/.conda/envs/ncplot/lib/python3.7/site-packages/ipykernel_launcher.py:4: RuntimeWarning: Mean of empty slice\n",
      "  after removing the cwd from sys.path.\n",
      "/home/u18/sylvia/.conda/envs/ncplot/lib/python3.7/site-packages/ipykernel_launcher.py:10: UserWarning: FixedFormatter should only be used together with FixedLocator\n",
      "  # Remove the CWD from sys.path while we load stuff.\n"
     ]
    },
    {
     "data": {
      "image/png": "[encoded data removed]",
      "text/plain": [
       "<Figure size 1000x300 with 1 Axes>"
      ]
     },
     "metadata": {},
     "output_type": "display_data"
    }
   ],
   "source": [
    "fs = 12\n",
    "Tm = np.nanmean( T, axis=1 )\n",
    "Tstd = np.nanstd( T, axis=1 )\n",
    "Pm = np.nanmean( P, axis=1 )\n",
    "\n",
    "plt.figure( figsize=(10,3) )\n",
    "plt.plot(t, Tstd/T_Stratoclim * 100, color='indianred', linewidth=2.5)\n",
    "plt.gca().set_ylabel(r'$\\sigma(T)$ [%]', fontsize=fs+3)\n",
    "plt.gca().set_xticklabels(['08-08-2017 \\n 04:00', '08-08-2017 \\n 04:30','08-08-2017 \\n 05:00','08-08-2017 \\n 05:30',\n",
    "    '08-08-2017 \\n 06:00','08-08-2017 \\n 06:30','08-08-2017 \\n 07:00'])\n",
    "plt.gca().set_xlabel('Flight 7 time [UTC]', fontsize=fs+3)\n",
    "\n",
    "plt.tight_layout()\n",
    "plt.show()"
   ]
  },
  {
   "cell_type": "markdown",
   "metadata": {
    "jp-MarkdownHeadingCollapsed": true
   },
   "source": [
    "# Correlation of temperature bias, observed temperature, and stdev "
   ]
  },
  {
   "cell_type": "code",
   "execution_count": 5,
   "metadata": {},
   "outputs": [
    {
     "name": "stdout",
     "output_type": "stream",
     "text": [
      "Correlation of model bias with measured temperature: -0.5073969477641302\n",
      "r = -0.507397, p = 0.000e+00\n",
      "Negative value implies that bias increases at colder temps.\n"
     ]
    },
    {
     "name": "stderr",
     "output_type": "stream",
     "text": [
      "/home/u18/sylvia/.conda/envs/ncplot/lib/python3.7/site-packages/ipykernel_launcher.py:1: RuntimeWarning: Mean of empty slice\n",
      "  \"\"\"Entry point for launching an IPython kernel.\n",
      "/home/u18/sylvia/.conda/envs/ncplot/lib/python3.7/site-packages/numpy/lib/nanfunctions.py:1671: RuntimeWarning: Degrees of freedom <= 0 for slice.\n",
      "  keepdims=keepdims)\n"
     ]
    }
   ],
   "source": [
    "mask = ~np.isnan(Tm) & ~np.isnan(T_Stratoclim)\n",
    "r, p = scipy.stats.pearsonr( Tm[mask], Tbias[mask] )\n",
    "print( 'Correlation of model bias with measured temperature: ' + str(r) )\n",
    "print(f\"r = {r:.6f}, p = {p:.3e}\") \n",
    "print( 'Negative value implies that bias increases at colder temps.' )"
   ]
  },
  {
   "cell_type": "code",
   "execution_count": 8,
   "metadata": {},
   "outputs": [
    {
     "name": "stdout",
     "output_type": "stream",
     "text": [
      "Temperature from 185 to 195\n",
      "3.7694248827249566\n",
      "r = -0.655578, p = 0.000e+00\n",
      "Temperature from 195 to 205\n",
      "1.379056623271589\n",
      "r = -0.440871, p = 6.742e-103\n",
      "Temperature from 205 to 215\n",
      "1.0246015524764438\n",
      "r = 0.399775, p = 5.413e-38\n",
      "Temperature from 215 to 225\n",
      "1.7133191354957544\n",
      "r = -0.396959, p = 1.572e-17\n"
     ]
    }
   ],
   "source": [
    "# Calculate the temperature range over which the temperature bias is largest\n",
    "tt = np.arange(185, 230, 10)\n",
    "for i, t in enumerate(tt[:-1]):\n",
    "    mask = (T_Stratoclim > t) & (T_Stratoclim <= tt[i+1])\n",
    "    T_Stratoclim_masked = T_Stratoclim[mask]\n",
    "    Tbias_masked = np.abs(Tbias[mask])\n",
    "    r, p = scipy.stats.pearsonr( T_Stratoclim_masked, Tbias_masked )\n",
    "    print('Temperature from ' + str(t) + ' to ' + str(tt[i+1]))\n",
    "    print( np.nanmean(Tbias_masked) )\n",
    "    print(f\"r = {r:.6f}, p = {p:.3e}\")"
   ]
  },
  {
   "cell_type": "code",
   "execution_count": 9,
   "metadata": {},
   "outputs": [
    {
     "name": "stdout",
     "output_type": "stream",
     "text": [
      "Correlation of model bias with temperature rate of change: 0.05746615852037414\n",
      "r = 0.057466, p = 8.497e-11\n",
      "Correlation of stdev in model trajectories with temperature rate of change: -0.015175012699622393\n",
      "r = -0.015175, p = 8.674e-02\n",
      "Correlation of stdev in model trajectories with observed temperatures: 0.1299572011972714\n",
      "r = 0.129957, p = 4.095e-49\n"
     ]
    }
   ],
   "source": [
    "# Calculate the correlation of temperature bias and rate of change in temperature\n",
    "dt = (t_Stratoclim[1:].values - t_Stratoclim[:-1].values) / np.timedelta64(1, 's')\n",
    "dTdt = (T_Stratoclim[1:].values - T_Stratoclim[:-1].values)/dt\n",
    "Tbias_short = Tbias[:-1]\n",
    "mask = ~np.isnan(dTdt) & ~np.isnan(Tbias_short)\n",
    "r, p = scipy.stats.pearsonr( dTdt[mask], Tbias_short[mask] )\n",
    "print( 'Correlation of model bias with temperature rate of change: ' + str(r) )\n",
    "print(f\"r = {r:.6f}, p = {p:.3e}\") \n",
    "\n",
    "# Calculate the correlation of standard deviation across trajectories and rate of change in temperature\n",
    "Tstd_short = Tstd[1:]\n",
    "mask = ~np.isnan(dTdt) & ~np.isnan(Tstd_short)\n",
    "r, p = scipy.stats.pearsonr( dTdt[mask], Tstd_short[mask] )\n",
    "print( 'Correlation of stdev in model trajectories with temperature rate of change: ' + str(r) )\n",
    "print(f\"r = {r:.6f}, p = {p:.3e}\") \n",
    "\n",
    "# Calculate the correlation of standard deviation across trajectories and observed temperature\n",
    "mask = ~np.isnan(T_Stratoclim) & ~np.isnan(Tstd)\n",
    "r, p = scipy.stats.pearsonr( T_Stratoclim[mask], Tstd[mask] )\n",
    "print( 'Correlation of stdev in model trajectories with observed temperatures: ' + str(r) )\n",
    "print(f\"r = {r:.6f}, p = {p:.3e}\") "
   ]
  },
  {
   "cell_type": "code",
   "execution_count": 24,
   "metadata": {},
   "outputs": [
    {
     "name": "stdout",
     "output_type": "stream",
     "text": [
      "186.9 208.9 227.7904 299.7\n",
      "186.9 190.4 191.83641 211.4\n"
     ]
    }
   ],
   "source": [
    "# The worst temperature biases occur from 08-08-2017 05:30-06:30\n",
    "# Full flight track \n",
    "time0 = datetime(2017, 8, 8, 3, 20)\n",
    "timef = datetime(2017, 8, 8, 7, 48)\n",
    "\n",
    "p1, qv_flash, qv_fish, p2, qi_obs, p3, temp, theta, p4, rhice_flash, rhice_fish = \\\n",
    "    read_flighttrack( time0, timef )\n",
    "print( np.nanmin(temp), np.nanmedian(temp), np.nanmean(temp), np.nanmax(temp) )\n",
    "\n",
    "# Period with largest negative temperature bias\n",
    "time0 = datetime(2017, 8, 8, 5, 30)\n",
    "timef = datetime(2017, 8, 8, 6, 20)\n",
    "\n",
    "p1, qv_flash, qv_fish, p2, qi_obs, p3, temp, theta, p4, rhice_flash, rhice_fish = \\\n",
    "    read_flighttrack( time0, timef )\n",
    "print( np.nanmin(temp), np.nanmedian(temp), np.nanmean(temp), np.nanmax(temp) )"
   ]
  },
  {
   "cell_type": "markdown",
   "metadata": {
    "jp-MarkdownHeadingCollapsed": true
   },
   "source": [
    "# Percentages of qv bias and stdev values"
   ]
  },
  {
   "cell_type": "code",
   "execution_count": 58,
   "metadata": {},
   "outputs": [],
   "source": [
    "basedir = '/groups/sylvia/UTLS-profiles/output/'\n",
    "syn_traj = xr.open_dataset(basedir + 'ICON_synthetic_trajs_1M0O_E.nc')\n",
    "qv_sim = syn_traj.qv.values * conv * 10**6\n",
    "qi_sim = syn_traj.qi.values * conv * 10**6\n",
    "t = syn_traj.time.values # DataArray of length 12770\n",
    "\n",
    "# Read in-situ data\n",
    "daten = xr.open_dataset('/groups/sylvia/UTLS-profiles/obs/stratoclim2017.geophysika.0808_1.filtered_per_sec.nc')\n",
    "qv_Stratoclim1 = daten['BEST:H2O_enh']\n",
    "qv_Stratoclim2 = daten['BEST:H2O_gas']\n",
    "qi_Stratoclim = daten['BEST:IWC']\n",
    "t_Stratoclim = daten['time']"
   ]
  },
  {
   "cell_type": "code",
   "execution_count": 66,
   "metadata": {},
   "outputs": [
    {
     "name": "stderr",
     "output_type": "stream",
     "text": [
      "/home/u18/sylvia/.conda/envs/ncplot/lib/python3.7/site-packages/ipykernel_launcher.py:1: RuntimeWarning: Mean of empty slice\n",
      "  \"\"\"Entry point for launching an IPython kernel.\n",
      "/home/u18/sylvia/.conda/envs/ncplot/lib/python3.7/site-packages/numpy/lib/nanfunctions.py:1671: RuntimeWarning: Degrees of freedom <= 0 for slice.\n",
      "  keepdims=keepdims)\n"
     ]
    }
   ],
   "source": [
    "qvm = np.nanmean( qv_sim, axis=1 )\n",
    "qvstd = np.nanstd( qv_sim, axis=1 )\n",
    "qvbias = qvm - qv_Stratoclim2\n",
    "qvrelbias = (qvm - qv_Stratoclim2)/qv_Stratoclim2 * 100"
   ]
  },
  {
   "cell_type": "code",
   "execution_count": 64,
   "metadata": {},
   "outputs": [
    {
     "name": "stdout",
     "output_type": "stream",
     "text": [
      "43.23576525411388\n",
      "87.18508810251929\n",
      "91.78680646570555\n",
      "98.76219600990244\n"
     ]
    }
   ],
   "source": [
    "# What percent of qv biases fall in certain ranges?\n",
    "mask1 = np.abs(qvbias) <= 1\n",
    "mask2 = np.abs(qvbias) <= 5\n",
    "mask3 = np.abs(qvbias) <= 10\n",
    "mask5 = np.abs(qvbias) <= 50\n",
    "qvbias_size = np.count_nonzero( ~np.isnan(qvbias) )\n",
    "percent_within_1k = np.count_nonzero( mask1 ) / qvbias_size * 100\n",
    "percent_within_2k = np.count_nonzero( mask2 ) / qvbias_size * 100\n",
    "percent_within_3k = np.count_nonzero( mask3 ) / qvbias_size * 100\n",
    "percent_outside_5k = np.count_nonzero( mask5 ) / qvbias_size * 100\n",
    "print( percent_within_1k )\n",
    "print( percent_within_2k )\n",
    "print( percent_within_3k )\n",
    "print( percent_outside_5k )"
   ]
  },
  {
   "cell_type": "code",
   "execution_count": 68,
   "metadata": {},
   "outputs": [
    {
     "name": "stdout",
     "output_type": "stream",
     "text": [
      "12.21785350225717\n",
      "24.37745740498034\n",
      "57.73991553808068\n",
      "98.50007281199942\n"
     ]
    }
   ],
   "source": [
    "# What percent of relative (percent) qv biases fall in certain ranges?\n",
    "mask1 = np.abs(qvrelbias) <= 5\n",
    "mask2 = np.abs(qvrelbias) <= 10\n",
    "mask3 = np.abs(qvrelbias) <= 20\n",
    "mask5 = np.abs(qvrelbias) <= 50\n",
    "qvrelbias_size = np.count_nonzero( ~np.isnan(qvrelbias) )\n",
    "percent_within_1k = np.count_nonzero( mask1 ) / qvrelbias_size * 100\n",
    "percent_within_2k = np.count_nonzero( mask2 ) / qvrelbias_size * 100\n",
    "percent_within_3k = np.count_nonzero( mask3 ) / qvrelbias_size * 100\n",
    "percent_outside_5k = np.count_nonzero( mask5 ) / qvrelbias_size * 100\n",
    "print( percent_within_1k )\n",
    "print( percent_within_2k )\n",
    "print( percent_within_3k )\n",
    "print( percent_outside_5k )"
   ]
  },
  {
   "cell_type": "markdown",
   "metadata": {
    "jp-MarkdownHeadingCollapsed": true
   },
   "source": [
    "# Correlation of qv bias with other variables (qv, T, stdev T, etc.)"
   ]
  },
  {
   "cell_type": "code",
   "execution_count": 24,
   "metadata": {},
   "outputs": [],
   "source": [
    "basedir = '/groups/sylvia/UTLS-profiles/output/'\n",
    "syn_traj = xr.open_dataset(basedir + 'ICON_synthetic_trajs_1M0O_E.nc')\n",
    "qv_sim = syn_traj.qv.values * conv * 10**6\n",
    "t = syn_traj.time.values # DataArray of length 12770\n",
    "\n",
    "# Read in-situ data\n",
    "daten = xr.open_dataset('/groups/sylvia/UTLS-profiles/obs/stratoclim2017.geophysika.0808_1.filtered_per_sec.nc')\n",
    "qv_Stratoclim1 = daten['BEST:H2O_enh']\n",
    "qv_Stratoclim2 = daten['BEST:H2O_gas']\n",
    "T_Stratoclim = daten['BEST:TEMP']\n",
    "t_Stratoclim = daten['time']"
   ]
  },
  {
   "cell_type": "code",
   "execution_count": 25,
   "metadata": {},
   "outputs": [
    {
     "name": "stdout",
     "output_type": "stream",
     "text": [
      "Correlation of model bias with measured qv: 0.3450186159323936\n",
      "r = 0.345019, p = 3.244e-191\n",
      "Positive value implies that bias increases at larger specific humidities\n"
     ]
    },
    {
     "name": "stderr",
     "output_type": "stream",
     "text": [
      "/home/u18/sylvia/.conda/envs/ncplot/lib/python3.7/site-packages/ipykernel_launcher.py:1: RuntimeWarning: Mean of empty slice\n",
      "  \"\"\"Entry point for launching an IPython kernel.\n"
     ]
    }
   ],
   "source": [
    "qvm = np.nanmean( qv_sim, axis=1 )\n",
    "qvbias = (qvm - qv_Stratoclim2)/qv_Stratoclim2 * 100\n",
    "mask = ~np.isnan(qvm) & ~np.isnan(qv_Stratoclim2)\n",
    "r, p = scipy.stats.pearsonr( qvm[mask], qvbias[mask] )\n",
    "print( 'Correlation of model bias with measured qv: ' + str(r) )\n",
    "print(f\"r = {r:.6f}, p = {p:.3e}\") \n",
    "print( 'Positive value implies that bias increases at larger specific humidities' )"
   ]
  },
  {
   "cell_type": "code",
   "execution_count": 26,
   "metadata": {},
   "outputs": [
    {
     "name": "stdout",
     "output_type": "stream",
     "text": [
      "Correlation of model bias with measured temperature: 0.2776165354938335\n",
      "r = 0.277617, p = 9.543e-122\n"
     ]
    }
   ],
   "source": [
    "# How strongly do the qv biases correlate with temperature?\n",
    "mask = ~np.isnan(qvbias) & ~np.isnan(T_Stratoclim)\n",
    "r, p = scipy.stats.pearsonr( T_Stratoclim[mask], qvbias[mask] )\n",
    "print( 'Correlation of model bias with measured temperature: ' + str(r) )\n",
    "print(f\"r = {r:.6f}, p = {p:.3e}\") "
   ]
  },
  {
   "cell_type": "code",
   "execution_count": 29,
   "metadata": {},
   "outputs": [
    {
     "name": "stdout",
     "output_type": "stream",
     "text": [
      "Correlation of model bias with measured temperature: 0.1422492010312933\n",
      "r = 0.142249, p = 2.258e-32\n"
     ]
    }
   ],
   "source": [
    "# How strongly do the qv biases correlate with dT/dt?\n",
    "dt = (t_Stratoclim[1:].values - t_Stratoclim[:-1].values) / np.timedelta64(1, 's')\n",
    "dTdt = (T_Stratoclim[1:].values - T_Stratoclim[:-1].values)/dt\n",
    "qvbias_short = qvbias[:-1]\n",
    "mask = ~np.isnan(qvbias_short) & ~np.isnan(dTdt)\n",
    "r, p = scipy.stats.pearsonr( dTdt[mask], qvbias_short[mask] )\n",
    "print( 'Correlation of model bias with aircraft descent/ascent: ' + str(r) )\n",
    "print(f\"r = {r:.6f}, p = {p:.3e}\") "
   ]
  },
  {
   "cell_type": "code",
   "execution_count": 12,
   "metadata": {},
   "outputs": [
    {
     "name": "stdout",
     "output_type": "stream",
     "text": [
      "Correlation of model bias with measured qv: 0.3464590735293315\n",
      "Correlation of model bias with measured qv: 0.34655716914606527\n",
      "Correlation of model bias with measured qv: 0.34198845943272105\n",
      "Correlation of model bias with measured qv: 0.33817302304038876\n",
      "Correlation of model bias with measured qv: 0.3433961901923687\n",
      "Correlation of model bias with measured qv: 0.34138337173375954\n",
      "Correlation of model bias with measured qv: 0.34065250106237244\n",
      "Correlation of model bias with measured qv: 0.34602404509453477\n",
      "Correlation of model bias with measured qv: 0.3476133048161075\n",
      "Correlation of model bias with measured qv: 0.3471817678785103\n",
      "Correlation of model bias with measured qv: 0.3479158922547667\n",
      "Correlation of model bias with measured qv: 0.3467483169688545\n",
      "Correlation of model bias with measured qv: 0.3420252634422529\n",
      "Correlation of model bias with measured qv: 0.34071074465186146\n",
      "Correlation of model bias with measured qv: 0.3486561271774611\n",
      "Correlation of model bias with measured qv: 0.3457555373446938\n",
      "Correlation of model bias with measured qv: 0.34474867926690256\n",
      "Correlation of model bias with measured qv: 0.3401147144530523\n",
      "Correlation of model bias with measured qv: 0.34246365886757835\n",
      "Correlation of model bias with measured qv: 0.34667402263081915\n"
     ]
    }
   ],
   "source": [
    "# How different is the correlation of qv bias with qv observation across the trajectories?\n",
    "for i in range(20):\n",
    "    qvbias_sub = (qv_sim[:,i] - qv_Stratoclim2)/qv_Stratoclim2 * 100\n",
    "    mask = ~np.isnan(qv_sim[:,i]) & ~np.isnan(qv_Stratoclim2)\n",
    "    r, p = scipy.stats.pearsonr( qv_sim[mask,i], qvbias_sub[mask] )\n",
    "    print( 'Correlation of model bias with measured qv: ' + str(r) )"
   ]
  },
  {
   "cell_type": "code",
   "execution_count": 23,
   "metadata": {},
   "outputs": [
    {
     "data": {
      "text/plain": [
       "<matplotlib.lines.Line2D at 0x7f7d5e689c90>"
      ]
     },
     "execution_count": 23,
     "metadata": {},
     "output_type": "execute_result"
    },
    {
     "data": {
      "image/png": "[encoded data removed]",
      "text/plain": [
       "<Figure size 1100x300 with 1 Axes>"
      ]
     },
     "metadata": {},
     "output_type": "display_data"
    }
   ],
   "source": [
    "# Can we plot the bias of the first five trjaectories just to understand how different they are?\n",
    "plt.figure( figsize=(11,3) )\n",
    "for i in range(5):\n",
    "    plt.plot( t_Stratoclim, (qv_sim[:,i] - qv_Stratoclim2)/qv_Stratoclim2 * 100 )\n",
    "plt.gca().axhline( y=0, color='k', lw=0.5, linestyle='--' )\n",
    "plt.gca().set_yscale( 'symlog', linthresh=1e1 )\n",
    "plt.gca().axhline( y=10, color='gray', ls='--', lw=1 )\n",
    "plt.gca().axhline( y=-10, color='gray', ls='--', lw=1 )"
   ]
  },
  {
   "cell_type": "markdown",
   "metadata": {
    "jp-MarkdownHeadingCollapsed": true
   },
   "source": [
    "# Particular qv values at upper levels in ICON and obs"
   ]
  },
  {
   "cell_type": "code",
   "execution_count": 5,
   "metadata": {},
   "outputs": [],
   "source": [
    "# Which set of trajectory statistics do you want to open?\n",
    "tag = '_E'  # E = 'extract', default 20 synthetic trajectories\n",
    "#tag = '_E2' # Second (or third) set of 20 synthetic trajectories to test reproducibility\n",
    "#tag = '_C' # C = 'collocate', minimize the Euclidean distance between sim and obs values\n",
    "#tag = '_full' # Statistics over the full Flight 7 track\n",
    "\n",
    "bd = '/groups/sylvia/UTLS-profiles/output/'\n",
    "stats = []\n",
    "sim_list = ['1M0O','1M1O','1M3O','2M0O','2M1O','2M3O']\n",
    "for s in sim_list: \n",
    "    ds = xr.open_dataset( bd + 'ICON_synthetic_trajs_stats_' + s + tag + '.nc' )\n",
    "    stats.append( ds )\n",
    "\n",
    "plev = ds.pressure"
   ]
  },
  {
   "cell_type": "code",
   "execution_count": 40,
   "metadata": {},
   "outputs": [
    {
     "name": "stdout",
     "output_type": "stream",
     "text": [
      "[5.23327143 4.37285363 4.12539866 5.01171274]\n",
      "[ 75.4243  84.6072  94.4617 104.8516]\n",
      "What are the locations of the min-max qv in the 110-70 hPa range?\n",
      "94.46170000000001 75.4243\n",
      "What are the min-max qv values in the 110-70 hPa range?\n",
      "4.125398659618947 5.233271434065509\n"
     ]
    }
   ],
   "source": [
    "# Specify whether to compare means (l = 0) or medians (l = 1)\n",
    "k = 'mean'; l = 0\n",
    "\n",
    "for i, sl in zip(np.arange(len(sim_list)), sim_list):\n",
    "    qvm = np.nanmean( stats[i]['qv_'+k], axis=1 )\n",
    "plev_hpa = plev.values/100\n",
    "j = np.argwhere( (plev_hpa >= 68) & (plev_hpa <= 110) )[:,0]\n",
    "print( qvm[j] )\n",
    "print( plev_hpa[j] )\n",
    "\n",
    "qvm_sub = qvm[j]\n",
    "plev_hpa_sub = plev_hpa[j]\n",
    "\n",
    "print( 'What are the locations of the min-max qv in the 110-70 hPa range?')\n",
    "print( plev_hpa_sub[np.argmin(qvm_sub)], plev_hpa_sub[np.argmax(qvm_sub)] )\n",
    "print( 'What are the min-max qv values in the 110-70 hPa range?')\n",
    "print( np.nanmin(qvm_sub), np.nanmax(qvm_sub) )"
   ]
  },
  {
   "cell_type": "code",
   "execution_count": 32,
   "metadata": {},
   "outputs": [
    {
     "name": "stdout",
     "output_type": "stream",
     "text": [
      "What are the locations of the min-max qv in the 110-70 hPa range?\n",
      "86.74 78.26\n",
      "What are the min-max qv values in the 110-70 hPa range?\n",
      "3.33 5.77\n"
     ]
    }
   ],
   "source": [
    "# Time range from Lee et al. 2019 (6:20-6:48 UTC)    \n",
    "time0 = datetime(2017, 8, 8, 6, 20)\n",
    "timef = datetime(2017, 8, 8, 6, 48)\n",
    "\n",
    "# Full Flight 7 statistics\n",
    "#time0 = datetime(2017, 8, 8, 4, 0)\n",
    "#timef = datetime(2017, 8, 8, 7, 15)\n",
    "\n",
    "# Suppress warnings about levels where there are no data\n",
    "warnings.filterwarnings(\"ignore\", message=\"All-NaN slice encountered\")\n",
    "warnings.filterwarnings(\"ignore\", message=\"Mean of empty slice\")\n",
    "warnings.filterwarnings(\"ignore\", message=\"Degrees of freedom <= 0 for slice\")\n",
    "\n",
    "# Read in-situ data\n",
    "p1, qv_flash, qv_fish, p2, qi_obs, p3, temp, theta, p4, rhice_flash, rhice_fish = \\\n",
    "    read_flighttrack( time0, timef )\n",
    "\n",
    "# Extract qv_flash values between 110 and 70 hPa\n",
    "mask = np.argwhere( (p1 > 70) & (p1 < 110) )\n",
    "qv_flash_sub = qv_flash.values[mask]\n",
    "p1_sub = p1[mask]\n",
    "print( 'What are the locations of the min-max qv in the 110-70 hPa range?')\n",
    "print( p1_sub[np.argmin(qv_flash_sub)][0], p1_sub[np.argmax(qv_flash_sub)][0] )\n",
    "print( 'What are the min-max qv values in the 110-70 hPa range?')\n",
    "print( np.nanmin(qv_flash_sub), np.nanmax(qv_flash_sub) )"
   ]
  },
  {
   "cell_type": "code",
   "execution_count": 24,
   "metadata": {},
   "outputs": [
    {
     "data": {
      "text/plain": [
       "(120.0, 70.0)"
      ]
     },
     "execution_count": 24,
     "metadata": {},
     "output_type": "execute_result"
    },
    {
     "data": {
      "image/png": "[encoded data removed]",
      "text/plain": [
       "<Figure size 640x480 with 1 Axes>"
      ]
     },
     "metadata": {},
     "output_type": "display_data"
    }
   ],
   "source": [
    "fig = plt.figure()\n",
    "plt.scatter( qv_flash, p1 )\n",
    "plt.gca().invert_yaxis()\n",
    "plt.gca().set_xlim([0,10])\n",
    "plt.gca().set_ylim([120,70])"
   ]
  },
  {
   "cell_type": "code",
   "execution_count": null,
   "metadata": {},
   "outputs": [],
   "source": []
  }
 ],
 "metadata": {
  "kernelspec": {
   "display_name": "ncplot",
   "language": "python",
   "name": "ncplot"
  },
  "language_info": {
   "codemirror_mode": {
    "name": "ipython",
    "version": 3
   },
   "file_extension": ".py",
   "mimetype": "text/x-python",
   "name": "python",
   "nbconvert_exporter": "python",
   "pygments_lexer": "ipython3",
   "version": "3.7.12"
  }
 },
 "nbformat": 4,
 "nbformat_minor": 4
}
